{
 "cells": [
  {
   "cell_type": "code",
   "execution_count": 1,
   "id": "494346ff-28a3-43f5-b307-d050f0f18e94",
   "metadata": {},
   "outputs": [
    {
     "name": "stderr",
     "output_type": "stream",
     "text": [
      "/opt/conda/lib/python3.9/site-packages/tqdm/auto.py:21: TqdmWarning: IProgress not found. Please update jupyter and ipywidgets. See https://ipywidgets.readthedocs.io/en/stable/user_install.html\n",
      "  from .autonotebook import tqdm as notebook_tqdm\n"
     ]
    },
    {
     "name": "stdout",
     "output_type": "stream",
     "text": [
      "[dataset] read /data/zfr888/ljt/voc_my_data/files/VOC2007/classification_trainval.csv\n",
      "[dataset] VOC 2007 classification set=trainval number of classes=8  number of images=2525\n",
      "[dataset] read /data/zfr888/ljt/voc_my_data/files/VOC2007/classification_test.csv\n",
      "[dataset] VOC 2007 classification set=test number of classes=8  number of images=632\n"
     ]
    }
   ],
   "source": [
    "from dataset import *\n",
    "\n",
    "train_dataset = Voc2007Classification('/data/zfr888/ljt/voc_my_data', 'trainval', inp_name='data/mydata/waste_glove_word2vec.pkl')\n",
    "val_dataset = Voc2007Classification('/data/zfr888/ljt/voc_my_data', 'test', inp_name='data/mydata/waste_glove_word2vec.pkl')\n"
   ]
  },
  {
   "cell_type": "code",
   "execution_count": null,
   "id": "351934b1-baf8-4c74-8695-f61bf8ab6ced",
   "metadata": {
    "slideshow": {
     "slide_type": "skip"
    },
    "tags": []
   },
   "outputs": [
    {
     "name": "stdout",
     "output_type": "stream",
     "text": [
      "[3]\n",
      "[7]\n",
      "[6]\n",
      "[3]\n",
      "[3]\n",
      "[5]\n",
      "[3, 5]\n",
      "[2]\n",
      "[6]\n",
      "[3, 6]\n",
      "[3, 6]\n",
      "[1, 6]\n",
      "[0, 1, 4, 6]\n",
      "[4]\n",
      "[3, 6]\n",
      "[0, 3]\n",
      "[2, 6]\n",
      "[0]\n",
      "[0, 3]\n",
      "[1, 4]\n",
      "[0, 3, 5]\n",
      "[0, 3, 4, 6]\n",
      "[0, 5]\n",
      "[0, 3, 5]\n",
      "[2]\n",
      "[0]\n",
      "[0]\n",
      "[0]\n",
      "[1, 3, 6]\n",
      "[2]\n",
      "[2]\n",
      "[1, 3, 4]\n",
      "[3]\n",
      "[0, 4]\n",
      "[4]\n",
      "[0, 3, 6]\n",
      "[3, 4]\n",
      "[0, 3, 4, 7]\n",
      "[3, 4, 6]\n",
      "[1, 3, 6]\n",
      "[1, 3, 4, 6]\n",
      "[3, 4, 5, 6]\n",
      "[4]\n",
      "[1, 4]\n",
      "[4, 6]\n",
      "[0, 7]\n",
      "[3, 6, 7]\n",
      "[3, 4]\n",
      "[3, 4]\n",
      "[2, 3, 5]\n",
      "[0]\n",
      "[0, 3]\n",
      "[3, 6]\n",
      "[0]\n",
      "[0, 3]\n",
      "[0]\n",
      "[2, 3, 4, 6]\n",
      "[2, 3, 4, 6]\n",
      "[2, 4]\n",
      "[2, 3, 6]\n",
      "[2]\n",
      "[0, 3]\n",
      "[2]\n",
      "[1, 2]\n",
      "[4]\n",
      "[3]\n",
      "[3, 6]\n",
      "[2, 3, 4]\n",
      "[0, 2, 3, 6]\n",
      "[0, 3, 6]\n",
      "[0, 6]\n",
      "[3, 4]\n",
      "[0]\n",
      "[3, 4]\n",
      "[1]\n",
      "[7]\n",
      "[3, 5, 6]\n",
      "[4, 7]\n",
      "[3, 4, 7]\n",
      "[0, 6]\n",
      "[3, 6]\n",
      "[3, 6]\n",
      "[2, 5]\n",
      "[0, 3, 6]\n",
      "[0, 3, 6]\n",
      "[3]\n",
      "[3, 6]\n",
      "[3, 4]\n",
      "[4]\n",
      "[3]\n",
      "[2]\n",
      "[0, 4]\n",
      "[4]\n",
      "[0, 3]\n",
      "[0, 1]\n",
      "[3, 6]\n",
      "[0, 2, 3, 6]\n",
      "[3]\n",
      "[]\n"
     ]
    },
    {
     "ename": "NameError",
     "evalue": "name 'zero_lists' is not defined",
     "output_type": "error",
     "traceback": [
      "\u001b[0;31m---------------------------------------------------------------------------\u001b[0m",
      "\u001b[0;31mNameError\u001b[0m                                 Traceback (most recent call last)",
      "Input \u001b[0;32mIn [2]\u001b[0m, in \u001b[0;36m<cell line: 1>\u001b[0;34m()\u001b[0m\n\u001b[1;32m      3\u001b[0m \u001b[38;5;28mprint\u001b[39m(label)\n\u001b[1;32m      4\u001b[0m \u001b[38;5;28;01mif\u001b[39;00m \u001b[38;5;28mlen\u001b[39m(label)\u001b[38;5;241m==\u001b[39m\u001b[38;5;241m0\u001b[39m:\n\u001b[0;32m----> 5\u001b[0m     \u001b[43mzero_lists\u001b[49m\u001b[38;5;241m.\u001b[39mappend(i)\n\u001b[1;32m      6\u001b[0m     \u001b[38;5;28;01mcontinue\u001b[39;00m\n",
      "\u001b[0;31mNameError\u001b[0m: name 'zero_lists' is not defined"
     ]
    }
   ],
   "source": [
    "for i,num in enumerate(range(len(train_dataset))):\n",
    "    image, label = train_dataset[num]\n",
    "    print(label)\n",
    "    if len(label)==0:\n",
    "        zero_lists.append(i)\n",
    "        continue"
   ]
  },
  {
   "cell_type": "code",
   "execution_count": 3,
   "id": "612c1141-20da-425e-b03a-ed47909e8863",
   "metadata": {},
   "outputs": [
    {
     "name": "stdout",
     "output_type": "stream",
     "text": [
      "(<PIL.Image.Image image mode=RGB size=640x473 at 0x7F00A01824F0>, [[7]])\n"
     ]
    }
   ],
   "source": [
    "print(train_dataset[1])"
   ]
  },
  {
   "cell_type": "code",
   "execution_count": 4,
   "id": "4a8a029a-8a31-4437-bbfc-774aedaada5a",
   "metadata": {},
   "outputs": [
    {
     "name": "stdout",
     "output_type": "stream",
     "text": [
      "(<PIL.Image.Image image mode=RGB size=640x473 at 0x7F00A0188880>, [[6]])\n"
     ]
    }
   ],
   "source": [
    "print(train_dataset[2])"
   ]
  },
  {
   "cell_type": "code",
   "execution_count": null,
   "id": "c29c7007-fde4-4172-bf8a-290747fd25d4",
   "metadata": {},
   "outputs": [],
   "source": []
  }
 ],
 "metadata": {
  "kernelspec": {
   "display_name": "Python 3 (ipykernel)",
   "language": "python",
   "name": "python3"
  },
  "language_info": {
   "codemirror_mode": {
    "name": "ipython",
    "version": 3
   },
   "file_extension": ".py",
   "mimetype": "text/x-python",
   "name": "python",
   "nbconvert_exporter": "python",
   "pygments_lexer": "ipython3",
   "version": "3.9.12"
  }
 },
 "nbformat": 4,
 "nbformat_minor": 5
}
